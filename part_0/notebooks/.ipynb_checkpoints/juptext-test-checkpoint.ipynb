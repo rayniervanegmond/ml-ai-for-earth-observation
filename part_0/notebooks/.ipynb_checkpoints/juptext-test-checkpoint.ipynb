{
 "cells": [
  {
   "cell_type": "markdown",
   "id": "be869804-5b28-49f4-8e31-99c43f42e8d0",
   "metadata": {},
   "source": [
    "This should be a new markdown cell in a jupyexy note book..."
   ]
  },
  {
   "cell_type": "markdown",
   "id": "242db494",
   "metadata": {},
   "source": [
    "`+++` this entry simply starts another markdown cell"
   ]
  },
  {
   "cell_type": "markdown",
   "id": "cc5dcedc",
   "metadata": {},
   "source": [
    "this another one. !"
   ]
  },
  {
   "cell_type": "code",
   "execution_count": 2,
   "id": "8bf05c78-a94a-4b47-997f-2832b60bb7da",
   "metadata": {},
   "outputs": [
    {
     "name": "stdout",
     "output_type": "stream",
     "text": [
      "4\n"
     ]
    }
   ],
   "source": [
    "print( 2+2)"
   ]
  },
  {
   "cell_type": "code",
   "execution_count": null,
   "id": "ae0a270c-3f47-4ae1-893b-605604484d15",
   "metadata": {},
   "outputs": [],
   "source": []
  }
 ],
 "metadata": {
  "jupytext": {
   "formats": "ipynb,md:myst"
  },
  "kernelspec": {
   "display_name": "pytorch13",
   "language": "python",
   "name": "pytorch13"
  },
  "language_info": {
   "codemirror_mode": {
    "name": "ipython",
    "version": 3
   },
   "file_extension": ".py",
   "mimetype": "text/x-python",
   "name": "python",
   "nbconvert_exporter": "python",
   "pygments_lexer": "ipython3",
   "version": "3.10.8"
  }
 },
 "nbformat": 4,
 "nbformat_minor": 5
}
