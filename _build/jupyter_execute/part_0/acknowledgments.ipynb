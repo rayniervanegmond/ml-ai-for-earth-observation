{
 "cells": [
  {
   "cell_type": "markdown",
   "id": "631e1983",
   "metadata": {},
   "source": [
    "# Acknowledgements\n",
    "\n",
    "This book and the content would not have been possible without the work done by many, many other authors of books on the topics of dee learning, and the family of Pytorch products and publications in journal on these topics and those related to the fields of satellite image processing and earth observation and monitoring.\n",
    "\n",
    "I am most indebted to these authors for their work and research and not in the least for their diagrams and pictures that were used in this creation of this eBook. Especially for the book authors I would like to make a special shout out by lissting the boosk and online purchase links where you can get your own copies. \n",
    "\n",
    "**<font color=\"teal\" font-size=\"16pt\">MACHINE LEARNING AND DEEP LEARNING</font>**\n",
    "\n",
    "**Deep Learning with PyTorch**\n",
    ": by Eli Stevens, Luca Antiga, Thomas Viehmann. {cite}`stevens2020`.\n",
    "  \n",
    "**Machine Learning with Pytorch and Scikit-learn : develop machine learning and deep learning models with scikit-learn and pytorch**\n",
    ": by Sebastian Raschka, Liu Yuxi (Hayden), Mirjalili Vahid. {cite}`raschka2020`. \n",
    "\n",
    "\n",
    "**<font color=\"teal\" font-size=\"16pt\">REMOTE SENSING AND EARTH OBSERVATION</font>**\n",
    "\n",
    "\n",
    "**<font color=\"teal\" font-size=\"16pt\">ENVIRONMENT AND CLIMATE CHANGE</font>**"
   ]
  }
 ],
 "metadata": {
  "jupytext": {
   "formats": "md:myst",
   "text_representation": {
    "extension": ".md",
    "format_name": "myst"
   }
  },
  "kernelspec": {
   "display_name": "Python 3",
   "language": "python",
   "name": "pytorch13"
  },
  "language_info": {
   "codemirror_mode": {
    "name": "ipython",
    "version": 3
   },
   "file_extension": ".py",
   "mimetype": "text/x-python",
   "name": "python",
   "nbconvert_exporter": "python",
   "pygments_lexer": "ipython3",
   "version": "3.10.8"
  },
  "source_map": [
   11
  ]
 },
 "nbformat": 4,
 "nbformat_minor": 5
}