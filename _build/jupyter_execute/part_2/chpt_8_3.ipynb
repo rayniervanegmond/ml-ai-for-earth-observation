{
 "cells": [
  {
   "cell_type": "markdown",
   "id": "37e5333d",
   "metadata": {},
   "source": [
    "# <span style=\"color:cornflowerblue;\">Chapter 8.3 - An annotated sample project for landscape type classification </span>\n",
    "\n",
    "PROVIDE MATERIAL\n",
    "\n",
    "---\n",
    "## Chapter Notebooks\n",
    "\n",
    "landscape cover or landscape use classification project  [<i class=\"fa-solid fa-arrow-circle-right\" style=\"margin-left:10px;color:teal;\"></i>](notebooks/chpt_8/003-lclu-type-classification)\n",
    ": The purpose of this notebook is to show how we can use deep learning classification techniques to identify images or \"chips\" (a part of an input image used to classify parts of a larger image) to be of a specific kind; in this case what type of landscape cover or landscape use they represent."
   ]
  }
 ],
 "metadata": {
  "jupytext": {
   "formats": "md:myst",
   "text_representation": {
    "extension": ".md",
    "format_name": "myst"
   }
  },
  "kernelspec": {
   "display_name": "Python 3",
   "language": "python",
   "name": "pytorch13"
  },
  "language_info": {
   "codemirror_mode": {
    "name": "ipython",
    "version": 3
   },
   "file_extension": ".py",
   "mimetype": "text/x-python",
   "name": "python",
   "nbconvert_exporter": "python",
   "pygments_lexer": "ipython3",
   "version": "3.10.8"
  },
  "source_map": [
   11
  ]
 },
 "nbformat": 4,
 "nbformat_minor": 5
}