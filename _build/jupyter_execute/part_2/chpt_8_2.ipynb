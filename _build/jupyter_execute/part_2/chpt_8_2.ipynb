{
 "cells": [
  {
   "cell_type": "markdown",
   "id": "83262e00",
   "metadata": {},
   "source": [
    "# <span style=\"color:cornflowerblue;\">Chapter 8.2 - An annotated sample project for image classification </span>\n",
    "\n",
    "In this chapter we will look at a sample image classification project that is mainly used to illustrate the scaffolding template with an actual working project that you could use for your own use. The project use a state-of-the-art pretrained neural network that can recognize images with any one of a 1000 classes. \n",
    "\n",
    "---\n",
    "## Chapter Notebooks\n",
    "\n",
    "simple image classification project  [<i class=\"fa-solid fa-arrow-circle-right\" style=\"margin-left:10px;color:teal;\"></i>](notebooks/chpt_8/001-image-classification)\n",
    ": The purpose of this notebook is to provide a simple illustrative example of a full image classification project. Its main purpose is to show how the project scaffolding template is used and what the main steps in a project look like. It is more heavily annotated than regular project notebooks would be."
   ]
  }
 ],
 "metadata": {
  "jupytext": {
   "formats": "md:myst",
   "text_representation": {
    "extension": ".md",
    "format_name": "myst"
   }
  },
  "kernelspec": {
   "display_name": "Python 3",
   "language": "python",
   "name": "pytorch13"
  },
  "language_info": {
   "codemirror_mode": {
    "name": "ipython",
    "version": 3
   },
   "file_extension": ".py",
   "mimetype": "text/x-python",
   "name": "python",
   "nbconvert_exporter": "python",
   "pygments_lexer": "ipython3",
   "version": "3.10.8"
  },
  "source_map": [
   11
  ]
 },
 "nbformat": 4,
 "nbformat_minor": 5
}