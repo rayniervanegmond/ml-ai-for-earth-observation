{
 "cells": [
  {
   "cell_type": "markdown",
   "id": "40c4c0c8",
   "metadata": {},
   "source": [
    "# <span style=\"color:cornflowerblue;\">Chapter 8.5 - An annotated sample project for land use object identification</span>\n",
    "\n",
    "PROVIDE MATERIAL\n",
    "\n",
    "---\n",
    "## Chapter Notebooks\n",
    "\n",
    "land use object identification  [<i class=\"fa-solid fa-arrow-circle-right\" style=\"margin-left:10px;color:teal;\"></i>](notebooks/chpt_8/005-lu-object-identification)\n",
    ": The purpose of this notebook is to show how we deep learning to locate and identify different objects (for instance building, ships or cars) in a remote sensing image. The main purpose is to identify if objects in the image are of a known class and then for each instance of these object classes draw a bounding box around it."
   ]
  }
 ],
 "metadata": {
  "jupytext": {
   "formats": "md:myst",
   "text_representation": {
    "extension": ".md",
    "format_name": "myst"
   }
  },
  "kernelspec": {
   "display_name": "Python 3",
   "language": "python",
   "name": "pytorch13"
  },
  "language_info": {
   "codemirror_mode": {
    "name": "ipython",
    "version": 3
   },
   "file_extension": ".py",
   "mimetype": "text/x-python",
   "name": "python",
   "nbconvert_exporter": "python",
   "pygments_lexer": "ipython3",
   "version": "3.10.8"
  },
  "source_map": [
   11
  ]
 },
 "nbformat": 4,
 "nbformat_minor": 5
}