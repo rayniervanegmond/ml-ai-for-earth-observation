{
 "cells": [
  {
   "cell_type": "markdown",
   "id": "3955719e",
   "metadata": {},
   "source": [
    "# <span style=\"color:cornflowerblue;\">Chapter 8.7 - An annotated semantic instance segmentation</span>\n",
    "\n",
    "PROVIDE MATERIAL\n",
    "\n",
    "---\n",
    "## Chapter Notebooks\n",
    "\n",
    "landscape use semantic instance segmentation project  [<i class=\"fa-solid fa-arrow-circle-right\" style=\"margin-left:10px;color:teal;\"></i>](notebooks/chpt_8/007-lclu-instance-segmentation)\n",
    ": The purpose of this notebook is to show how we can use semantic segmentation to create pixel level classifications in satellite images but now for each different instance of such objects we will indicate/draw their pixels in a different color."
   ]
  }
 ],
 "metadata": {
  "jupytext": {
   "formats": "md:myst",
   "text_representation": {
    "extension": ".md",
    "format_name": "myst"
   }
  },
  "kernelspec": {
   "display_name": "Python 3",
   "language": "python",
   "name": "pytorch13"
  },
  "language_info": {
   "codemirror_mode": {
    "name": "ipython",
    "version": 3
   },
   "file_extension": ".py",
   "mimetype": "text/x-python",
   "name": "python",
   "nbconvert_exporter": "python",
   "pygments_lexer": "ipython3",
   "version": "3.10.8"
  },
  "source_map": [
   11
  ]
 },
 "nbformat": 4,
 "nbformat_minor": 5
}