{
 "cells": [
  {
   "cell_type": "markdown",
   "id": "de5d7ad9",
   "metadata": {},
   "source": [
    "# <span style=\"color:cornflowerblue;\">Chapter 8.1 - Illustrating the workings of the Pytorch environment </span>\n",
    "\n",
    "In this chapter we will look at how at some illustrations --without the explanation of the underlying Pytorch codings--  to see how we can use deep learning for some of the categories of machine learning we briefly discussed earlier (supervised, unsupervised, generative). The purpose of this first notebook series and explanations is to simply get a feel how we can use the Pytorch framework.\n",
    "\n",
    "These illustrations will get you familiar with the general approach of using the deep learning frameworks. The solutions to any deep learning project typically has the same outline. The main steps are:\n",
    "\n",
    "<font color=\"#FF5733;\">1. data pre-processing, cleaning and preparation</font>\n",
    ": this concerns the processing of the raw data, the observations and cleaning up the input data. In the case of earth observation and monitoring applications we often have a great deal of work to do before we actually start working with the actual deep learning methods and techniques.\n",
    "\n",
    "<font color=\"#FF5733;\">2. dataset and dataloader definition</font>\n",
    ": this concerns the casting the (vast amount) of input data into data objects that are defined by the Pytorch framework with the purpose of standardizing the feeding process of the defined deep learning models.\n",
    "\n",
    "<font color=\"#FF5733;\">3. deep learning model definition</font>\n",
    ": this concerns definition of the architecture of the neural network model and deciding whether or not we will use pre-trained models or do all the training ourselves. The things we do in the model definition stage is the specify the behavior of the model and its learning process.\n",
    "\n",
    "<font color=\"#FF5733;\">4. model instantiation</font>\n",
    ": once we have the definition of the model architecture complete we need to actually instantiate the model and connect it to the data sources from which it will learn and train.\n",
    "\n",
    "<font color=\"#FF5733;\">5. model training and evaluation</font>\n",
    ": this is the moment where the deep learning neural network will start processing the input training data and based on the progress adapts its internal parameters the get progressively better in doing its task. The process is basically a cycle of learning, evaluating, updating the parameters until progress is sufficient or does not improve in a relevant amount.\n",
    "\n",
    "<font color=\"#FF5733;\">6. model deployment and inference</font>\n",
    ": the final stage is where the trained model is saved and used for doing its actual operational task of making inferences or creating generative outputs.\n",
    "\n",
    "\n",
    "\n",
    "## The bibliography references extension:\n",
    "It seems impossible to keep the bibliography collection separate for each chapter. There is only one bibliography per full project/book. It would be nice if we could make different bibliographies per chapter. It seems there is a way to do this but according to the documentation this is complex. For now we will create a single book-wide bibliography.\n",
    "\n",
    "Here is another nifty citation in a different chapter document {cite}`nelson1987`. It refers into the book wide bibliography references collection at the end of the book.\n",
    "\n",
    "## referencing glued visualizations from other page \n",
    "\n",
    "\n",
    "This is an example of pasting a glued output as a block:\n",
    "```{glue:} glued_fig\n",
    "```\n",
    "\n",
    "This has an issue with the referencing to the source document. Manual correction does pickup the image from the other document where it is generated.\n",
    "\n",
    "```{glue:} glued_fig\n",
    ":doc: chpt_8_1\n",
    "```\n",
    "\n",
    "---\n",
    "\n",
    "## <span style=\"font-size:smaller;\">Chapter Notebooks</span>\n",
    "\n",
    "notebook_template  [<i class=\"fa-solid fa-arrow-circle-right\" style=\"margin-left:10px;color:teal;\"></i>](notebooks/notebook-template)\n",
    ": this is a link to a pneom curriculum notebooks template"
   ]
  }
 ],
 "metadata": {
  "jupytext": {
   "formats": "md:myst",
   "text_representation": {
    "extension": ".md",
    "format_name": "myst"
   }
  },
  "kernelspec": {
   "display_name": "Python 3",
   "language": "python",
   "name": "python3"
  },
  "language_info": {
   "codemirror_mode": {
    "name": "ipython",
    "version": 3
   },
   "file_extension": ".py",
   "mimetype": "text/x-python",
   "name": "python",
   "nbconvert_exporter": "python",
   "pygments_lexer": "ipython3",
   "version": "3.10.8"
  },
  "source_map": [
   11
  ]
 },
 "nbformat": 4,
 "nbformat_minor": 5
}