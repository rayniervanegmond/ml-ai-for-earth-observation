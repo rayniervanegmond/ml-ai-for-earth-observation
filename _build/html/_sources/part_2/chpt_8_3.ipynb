{
 "cells": [
  {
   "cell_type": "markdown",
   "id": "05232668",
   "metadata": {},
   "source": [
    "# <span style=\"color:cornflowerblue;\">Chapter 8.3 - A discussion of different types of classification </span>\n",
    "\n",
    "In this chapter we will provide a discussion of the different types of classification we encounter in our work with earth observation data. The in the next few chapters we will provide discussion and an annotated Jupyter Notebook for each of the types of classification using EOM data. \n",
    "\n",
    "\n",
    "---\n",
    "\n",
    "## Chapter Notebooks\n",
    "\n",
    "No notebooks"
   ]
  }
 ],
 "metadata": {
  "jupytext": {
   "formats": "md:myst",
   "text_representation": {
    "extension": ".md",
    "format_name": "myst"
   }
  },
  "kernelspec": {
   "display_name": "Python 3",
   "language": "python",
   "name": "pytorch13"
  },
  "language_info": {
   "codemirror_mode": {
    "name": "ipython",
    "version": 3
   },
   "file_extension": ".py",
   "mimetype": "text/x-python",
   "name": "python",
   "nbconvert_exporter": "python",
   "pygments_lexer": "ipython3",
   "version": "3.10.8"
  },
  "source_map": [
   11
  ]
 },
 "nbformat": 4,
 "nbformat_minor": 5
}